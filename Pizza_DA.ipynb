{
 "cells": [
  {
   "cell_type": "markdown",
   "id": "1af1eadd",
   "metadata": {},
   "source": [
    "## **Data Analysis Python Project :- Pizza Data Analysis** ##"
   ]
  },
  {
   "cell_type": "markdown",
   "id": "edd2dfe6",
   "metadata": {
    "vscode": {
     "languageId": "plaintext"
    }
   },
   "source": [
    "#### **Import Libraries** ####"
   ]
  },
  {
   "cell_type": "code",
   "execution_count": 116,
   "id": "a0a3b1ae",
   "metadata": {},
   "outputs": [],
   "source": [
    "import pandas as pd \n",
    "import numpy as np \n",
    "import matplotlib.pyplot as plt \n",
    "import seaborn as sns \n",
    "import warnings \n",
    "warnings.filterwarnings(\"ignore\")"
   ]
  },
  {
   "cell_type": "markdown",
   "id": "b7764275",
   "metadata": {},
   "source": [
    "#### **Import Raw Data** ####"
   ]
  },
  {
   "cell_type": "code",
   "execution_count": 117,
   "id": "79e885f6",
   "metadata": {},
   "outputs": [
    {
     "data": {
      "text/html": [
       "<div>\n",
       "<style scoped>\n",
       "    .dataframe tbody tr th:only-of-type {\n",
       "        vertical-align: middle;\n",
       "    }\n",
       "\n",
       "    .dataframe tbody tr th {\n",
       "        vertical-align: top;\n",
       "    }\n",
       "\n",
       "    .dataframe thead th {\n",
       "        text-align: right;\n",
       "    }\n",
       "</style>\n",
       "<table border=\"1\" class=\"dataframe\">\n",
       "  <thead>\n",
       "    <tr style=\"text-align: right;\">\n",
       "      <th></th>\n",
       "      <th>order_details_id</th>\n",
       "      <th>order_id</th>\n",
       "      <th>pizza_id</th>\n",
       "      <th>quantity</th>\n",
       "    </tr>\n",
       "  </thead>\n",
       "  <tbody>\n",
       "    <tr>\n",
       "      <th>0</th>\n",
       "      <td>1</td>\n",
       "      <td>1</td>\n",
       "      <td>hawaiian_m</td>\n",
       "      <td>1</td>\n",
       "    </tr>\n",
       "  </tbody>\n",
       "</table>\n",
       "</div>"
      ],
      "text/plain": [
       "   order_details_id  order_id    pizza_id  quantity\n",
       "0                 1         1  hawaiian_m         1"
      ]
     },
     "execution_count": 117,
     "metadata": {},
     "output_type": "execute_result"
    }
   ],
   "source": [
    "df_order_details = pd.read_csv(r\"D:\\Data Science UV Tech\\Projects\\Python project\\order_details.csv\")\n",
    "df_order_details.head(1)"
   ]
  },
  {
   "cell_type": "code",
   "execution_count": 118,
   "id": "44a1e454",
   "metadata": {},
   "outputs": [
    {
     "data": {
      "text/html": [
       "<div>\n",
       "<style scoped>\n",
       "    .dataframe tbody tr th:only-of-type {\n",
       "        vertical-align: middle;\n",
       "    }\n",
       "\n",
       "    .dataframe tbody tr th {\n",
       "        vertical-align: top;\n",
       "    }\n",
       "\n",
       "    .dataframe thead th {\n",
       "        text-align: right;\n",
       "    }\n",
       "</style>\n",
       "<table border=\"1\" class=\"dataframe\">\n",
       "  <thead>\n",
       "    <tr style=\"text-align: right;\">\n",
       "      <th></th>\n",
       "      <th>order_id</th>\n",
       "      <th>date</th>\n",
       "      <th>time</th>\n",
       "    </tr>\n",
       "  </thead>\n",
       "  <tbody>\n",
       "    <tr>\n",
       "      <th>0</th>\n",
       "      <td>1</td>\n",
       "      <td>2015-01-01</td>\n",
       "      <td>11:38:36</td>\n",
       "    </tr>\n",
       "  </tbody>\n",
       "</table>\n",
       "</div>"
      ],
      "text/plain": [
       "   order_id        date      time\n",
       "0         1  2015-01-01  11:38:36"
      ]
     },
     "execution_count": 118,
     "metadata": {},
     "output_type": "execute_result"
    }
   ],
   "source": [
    "df_orders = pd.read_csv(r\"D:\\Data Science UV Tech\\Projects\\Python project\\orders.csv\")\n",
    "df_orders.head(1)"
   ]
  },
  {
   "cell_type": "code",
   "execution_count": 119,
   "id": "9e503f21",
   "metadata": {},
   "outputs": [
    {
     "data": {
      "text/html": [
       "<div>\n",
       "<style scoped>\n",
       "    .dataframe tbody tr th:only-of-type {\n",
       "        vertical-align: middle;\n",
       "    }\n",
       "\n",
       "    .dataframe tbody tr th {\n",
       "        vertical-align: top;\n",
       "    }\n",
       "\n",
       "    .dataframe thead th {\n",
       "        text-align: right;\n",
       "    }\n",
       "</style>\n",
       "<table border=\"1\" class=\"dataframe\">\n",
       "  <thead>\n",
       "    <tr style=\"text-align: right;\">\n",
       "      <th></th>\n",
       "      <th>pizza_type_id</th>\n",
       "      <th>name</th>\n",
       "      <th>category</th>\n",
       "      <th>ingredients</th>\n",
       "    </tr>\n",
       "  </thead>\n",
       "  <tbody>\n",
       "    <tr>\n",
       "      <th>0</th>\n",
       "      <td>bbq_ckn</td>\n",
       "      <td>The Barbecue Chicken Pizza</td>\n",
       "      <td>Chicken</td>\n",
       "      <td>Barbecued Chicken, Red Peppers, Green Peppers,...</td>\n",
       "    </tr>\n",
       "  </tbody>\n",
       "</table>\n",
       "</div>"
      ],
      "text/plain": [
       "  pizza_type_id                        name category  \\\n",
       "0       bbq_ckn  The Barbecue Chicken Pizza  Chicken   \n",
       "\n",
       "                                         ingredients  \n",
       "0  Barbecued Chicken, Red Peppers, Green Peppers,...  "
      ]
     },
     "execution_count": 119,
     "metadata": {},
     "output_type": "execute_result"
    }
   ],
   "source": [
    "df_pizza_types = pd.read_csv(r\"D:\\Data Science UV Tech\\Projects\\Python project\\pizza_types.csv\",encoding='latin1')\n",
    "df_pizza_types.head(1)"
   ]
  },
  {
   "cell_type": "code",
   "execution_count": 120,
   "id": "0ba6cfd3",
   "metadata": {},
   "outputs": [
    {
     "data": {
      "text/html": [
       "<div>\n",
       "<style scoped>\n",
       "    .dataframe tbody tr th:only-of-type {\n",
       "        vertical-align: middle;\n",
       "    }\n",
       "\n",
       "    .dataframe tbody tr th {\n",
       "        vertical-align: top;\n",
       "    }\n",
       "\n",
       "    .dataframe thead th {\n",
       "        text-align: right;\n",
       "    }\n",
       "</style>\n",
       "<table border=\"1\" class=\"dataframe\">\n",
       "  <thead>\n",
       "    <tr style=\"text-align: right;\">\n",
       "      <th></th>\n",
       "      <th>pizza_id</th>\n",
       "      <th>pizza_type_id</th>\n",
       "      <th>size</th>\n",
       "      <th>price</th>\n",
       "    </tr>\n",
       "  </thead>\n",
       "  <tbody>\n",
       "    <tr>\n",
       "      <th>0</th>\n",
       "      <td>bbq_ckn_s</td>\n",
       "      <td>bbq_ckn</td>\n",
       "      <td>S</td>\n",
       "      <td>12.75</td>\n",
       "    </tr>\n",
       "  </tbody>\n",
       "</table>\n",
       "</div>"
      ],
      "text/plain": [
       "    pizza_id pizza_type_id size  price\n",
       "0  bbq_ckn_s       bbq_ckn    S  12.75"
      ]
     },
     "execution_count": 120,
     "metadata": {},
     "output_type": "execute_result"
    }
   ],
   "source": [
    "df_pizzas = pd.read_csv(r\"D:\\Data Science UV Tech\\Projects\\Python project\\pizzas.csv\")\n",
    "df_pizzas.head(1)"
   ]
  },
  {
   "cell_type": "markdown",
   "id": "1ae85c5b",
   "metadata": {},
   "source": [
    "#### **Checking Shape of the Dataframes** ####"
   ]
  },
  {
   "cell_type": "code",
   "execution_count": 121,
   "id": "620b24fe",
   "metadata": {},
   "outputs": [
    {
     "data": {
      "text/plain": [
       "(48620, 4)"
      ]
     },
     "execution_count": 121,
     "metadata": {},
     "output_type": "execute_result"
    }
   ],
   "source": [
    "df_order_details.shape"
   ]
  },
  {
   "cell_type": "code",
   "execution_count": 122,
   "id": "505598af",
   "metadata": {},
   "outputs": [
    {
     "data": {
      "text/plain": [
       "(21350, 3)"
      ]
     },
     "execution_count": 122,
     "metadata": {},
     "output_type": "execute_result"
    }
   ],
   "source": [
    "df_orders.shape"
   ]
  },
  {
   "cell_type": "code",
   "execution_count": 123,
   "id": "ba9808f3",
   "metadata": {},
   "outputs": [
    {
     "data": {
      "text/plain": [
       "(32, 4)"
      ]
     },
     "execution_count": 123,
     "metadata": {},
     "output_type": "execute_result"
    }
   ],
   "source": [
    "df_pizza_types.shape"
   ]
  },
  {
   "cell_type": "code",
   "execution_count": 124,
   "id": "1d737883",
   "metadata": {},
   "outputs": [
    {
     "data": {
      "text/plain": [
       "(96, 4)"
      ]
     },
     "execution_count": 124,
     "metadata": {},
     "output_type": "execute_result"
    }
   ],
   "source": [
    "df_pizzas.shape"
   ]
  },
  {
   "cell_type": "markdown",
   "id": "e782bd30",
   "metadata": {},
   "source": [
    "#### **Checking the Null Values in the Dataframes** ####"
   ]
  },
  {
   "cell_type": "code",
   "execution_count": 125,
   "id": "3e32354f",
   "metadata": {},
   "outputs": [
    {
     "data": {
      "text/plain": [
       "order_details_id    0\n",
       "order_id            0\n",
       "pizza_id            0\n",
       "quantity            0\n",
       "dtype: int64"
      ]
     },
     "execution_count": 125,
     "metadata": {},
     "output_type": "execute_result"
    }
   ],
   "source": [
    "df_order_details.isnull().sum()"
   ]
  },
  {
   "cell_type": "code",
   "execution_count": 126,
   "id": "27d4adef",
   "metadata": {},
   "outputs": [
    {
     "data": {
      "text/plain": [
       "order_id    0\n",
       "date        0\n",
       "time        0\n",
       "dtype: int64"
      ]
     },
     "execution_count": 126,
     "metadata": {},
     "output_type": "execute_result"
    }
   ],
   "source": [
    "df_orders.isnull().sum()"
   ]
  },
  {
   "cell_type": "code",
   "execution_count": 127,
   "id": "2221d5c2",
   "metadata": {},
   "outputs": [
    {
     "data": {
      "text/plain": [
       "pizza_type_id    0\n",
       "name             0\n",
       "category         0\n",
       "ingredients      0\n",
       "dtype: int64"
      ]
     },
     "execution_count": 127,
     "metadata": {},
     "output_type": "execute_result"
    }
   ],
   "source": [
    "df_pizza_types.isnull().sum()"
   ]
  },
  {
   "cell_type": "code",
   "execution_count": 128,
   "id": "a414e86b",
   "metadata": {},
   "outputs": [
    {
     "data": {
      "text/plain": [
       "pizza_id         0\n",
       "pizza_type_id    0\n",
       "size             0\n",
       "price            0\n",
       "dtype: int64"
      ]
     },
     "execution_count": 128,
     "metadata": {},
     "output_type": "execute_result"
    }
   ],
   "source": [
    "df_pizzas.isnull().sum()"
   ]
  },
  {
   "cell_type": "markdown",
   "id": "2ea09f19",
   "metadata": {},
   "source": [
    "#### **Merging all the Dataframes** ####"
   ]
  },
  {
   "cell_type": "code",
   "execution_count": 129,
   "id": "8a3d8267",
   "metadata": {},
   "outputs": [
    {
     "data": {
      "text/html": [
       "<div>\n",
       "<style scoped>\n",
       "    .dataframe tbody tr th:only-of-type {\n",
       "        vertical-align: middle;\n",
       "    }\n",
       "\n",
       "    .dataframe tbody tr th {\n",
       "        vertical-align: top;\n",
       "    }\n",
       "\n",
       "    .dataframe thead th {\n",
       "        text-align: right;\n",
       "    }\n",
       "</style>\n",
       "<table border=\"1\" class=\"dataframe\">\n",
       "  <thead>\n",
       "    <tr style=\"text-align: right;\">\n",
       "      <th></th>\n",
       "      <th>order_details_id</th>\n",
       "      <th>order_id</th>\n",
       "      <th>pizza_id</th>\n",
       "      <th>quantity</th>\n",
       "      <th>date</th>\n",
       "      <th>time</th>\n",
       "      <th>pizza_type_id</th>\n",
       "      <th>size</th>\n",
       "      <th>price</th>\n",
       "      <th>name</th>\n",
       "      <th>category</th>\n",
       "      <th>ingredients</th>\n",
       "    </tr>\n",
       "  </thead>\n",
       "  <tbody>\n",
       "    <tr>\n",
       "      <th>0</th>\n",
       "      <td>1</td>\n",
       "      <td>1</td>\n",
       "      <td>hawaiian_m</td>\n",
       "      <td>1</td>\n",
       "      <td>2015-01-01</td>\n",
       "      <td>11:38:36</td>\n",
       "      <td>hawaiian</td>\n",
       "      <td>M</td>\n",
       "      <td>13.25</td>\n",
       "      <td>The Hawaiian Pizza</td>\n",
       "      <td>Classic</td>\n",
       "      <td>Sliced Ham, Pineapple, Mozzarella Cheese</td>\n",
       "    </tr>\n",
       "  </tbody>\n",
       "</table>\n",
       "</div>"
      ],
      "text/plain": [
       "   order_details_id  order_id    pizza_id  quantity        date      time  \\\n",
       "0                 1         1  hawaiian_m         1  2015-01-01  11:38:36   \n",
       "\n",
       "  pizza_type_id size  price                name category  \\\n",
       "0      hawaiian    M  13.25  The Hawaiian Pizza  Classic   \n",
       "\n",
       "                                ingredients  \n",
       "0  Sliced Ham, Pineapple, Mozzarella Cheese  "
      ]
     },
     "execution_count": 129,
     "metadata": {},
     "output_type": "execute_result"
    }
   ],
   "source": [
    "df = df_order_details.merge(df_orders, on=\"order_id\").merge(df_pizzas, on = \"pizza_id\").merge(df_pizza_types, on = \"pizza_type_id\")\n",
    "df.head(1)"
   ]
  },
  {
   "cell_type": "code",
   "execution_count": 130,
   "id": "ed1fdf23",
   "metadata": {},
   "outputs": [
    {
     "data": {
      "text/plain": [
       "order_details_id    0\n",
       "order_id            0\n",
       "pizza_id            0\n",
       "quantity            0\n",
       "date                0\n",
       "time                0\n",
       "pizza_type_id       0\n",
       "size                0\n",
       "price               0\n",
       "name                0\n",
       "category            0\n",
       "ingredients         0\n",
       "dtype: int64"
      ]
     },
     "execution_count": 130,
     "metadata": {},
     "output_type": "execute_result"
    }
   ],
   "source": [
    "df.isnull().sum()"
   ]
  },
  {
   "cell_type": "markdown",
   "id": "4255c89c",
   "metadata": {},
   "source": [
    "#### **Checking Data Types of the columns** ####"
   ]
  },
  {
   "cell_type": "code",
   "execution_count": 131,
   "id": "47c76c79",
   "metadata": {},
   "outputs": [
    {
     "data": {
      "text/plain": [
       "order_details_id      int64\n",
       "order_id              int64\n",
       "pizza_id             object\n",
       "quantity              int64\n",
       "date                 object\n",
       "time                 object\n",
       "pizza_type_id        object\n",
       "size                 object\n",
       "price               float64\n",
       "name                 object\n",
       "category             object\n",
       "ingredients          object\n",
       "dtype: object"
      ]
     },
     "execution_count": 131,
     "metadata": {},
     "output_type": "execute_result"
    }
   ],
   "source": [
    "df.dtypes"
   ]
  },
  {
   "cell_type": "markdown",
   "id": "8e0c6832",
   "metadata": {},
   "source": [
    "#### **Concating Date column & time Column , and Changing Datatypes of that column to datetime** ####"
   ]
  },
  {
   "cell_type": "code",
   "execution_count": 141,
   "id": "12520c8b",
   "metadata": {},
   "outputs": [
    {
     "data": {
      "text/html": [
       "<div>\n",
       "<style scoped>\n",
       "    .dataframe tbody tr th:only-of-type {\n",
       "        vertical-align: middle;\n",
       "    }\n",
       "\n",
       "    .dataframe tbody tr th {\n",
       "        vertical-align: top;\n",
       "    }\n",
       "\n",
       "    .dataframe thead th {\n",
       "        text-align: right;\n",
       "    }\n",
       "</style>\n",
       "<table border=\"1\" class=\"dataframe\">\n",
       "  <thead>\n",
       "    <tr style=\"text-align: right;\">\n",
       "      <th></th>\n",
       "      <th>order_details_id</th>\n",
       "      <th>order_id</th>\n",
       "      <th>pizza_id</th>\n",
       "      <th>quantity</th>\n",
       "      <th>date</th>\n",
       "      <th>time</th>\n",
       "      <th>pizza_type_id</th>\n",
       "      <th>size</th>\n",
       "      <th>price</th>\n",
       "      <th>name</th>\n",
       "      <th>category</th>\n",
       "      <th>ingredients</th>\n",
       "      <th>Total_revenue</th>\n",
       "      <th>date_&amp;_time</th>\n",
       "    </tr>\n",
       "  </thead>\n",
       "  <tbody>\n",
       "    <tr>\n",
       "      <th>0</th>\n",
       "      <td>1</td>\n",
       "      <td>1</td>\n",
       "      <td>hawaiian_m</td>\n",
       "      <td>1</td>\n",
       "      <td>2015-01-01</td>\n",
       "      <td>11:38:36</td>\n",
       "      <td>hawaiian</td>\n",
       "      <td>M</td>\n",
       "      <td>13.25</td>\n",
       "      <td>The Hawaiian Pizza</td>\n",
       "      <td>Classic</td>\n",
       "      <td>Sliced Ham, Pineapple, Mozzarella Cheese</td>\n",
       "      <td>13.25</td>\n",
       "      <td>2015-01-01 11:38:36</td>\n",
       "    </tr>\n",
       "  </tbody>\n",
       "</table>\n",
       "</div>"
      ],
      "text/plain": [
       "   order_details_id  order_id    pizza_id  quantity        date      time  \\\n",
       "0                 1         1  hawaiian_m         1  2015-01-01  11:38:36   \n",
       "\n",
       "  pizza_type_id size  price                name category  \\\n",
       "0      hawaiian    M  13.25  The Hawaiian Pizza  Classic   \n",
       "\n",
       "                                ingredients  Total_revenue         date_&_time  \n",
       "0  Sliced Ham, Pineapple, Mozzarella Cheese          13.25 2015-01-01 11:38:36  "
      ]
     },
     "execution_count": 141,
     "metadata": {},
     "output_type": "execute_result"
    }
   ],
   "source": [
    "df[\"date_&_time\"] = pd.to_datetime(df[\"date\"] + \" \" + df[\"time\"])\n",
    "df.head(1)"
   ]
  },
  {
   "cell_type": "markdown",
   "id": "28b5ec75",
   "metadata": {},
   "source": [
    "#### **Extracting hour, day, month from date_&_time column** ####"
   ]
  },
  {
   "cell_type": "code",
   "execution_count": 199,
   "id": "933bb7a3",
   "metadata": {},
   "outputs": [
    {
     "data": {
      "text/html": [
       "<div>\n",
       "<style scoped>\n",
       "    .dataframe tbody tr th:only-of-type {\n",
       "        vertical-align: middle;\n",
       "    }\n",
       "\n",
       "    .dataframe tbody tr th {\n",
       "        vertical-align: top;\n",
       "    }\n",
       "\n",
       "    .dataframe thead th {\n",
       "        text-align: right;\n",
       "    }\n",
       "</style>\n",
       "<table border=\"1\" class=\"dataframe\">\n",
       "  <thead>\n",
       "    <tr style=\"text-align: right;\">\n",
       "      <th></th>\n",
       "      <th>order_details_id</th>\n",
       "      <th>order_id</th>\n",
       "      <th>pizza_id</th>\n",
       "      <th>quantity</th>\n",
       "      <th>date</th>\n",
       "      <th>time</th>\n",
       "      <th>pizza_type_id</th>\n",
       "      <th>size</th>\n",
       "      <th>price</th>\n",
       "      <th>name</th>\n",
       "      <th>category</th>\n",
       "      <th>ingredients</th>\n",
       "      <th>Total_revenue</th>\n",
       "      <th>date_&amp;_time</th>\n",
       "      <th>hour</th>\n",
       "      <th>day</th>\n",
       "      <th>month</th>\n",
       "    </tr>\n",
       "  </thead>\n",
       "  <tbody>\n",
       "    <tr>\n",
       "      <th>6797</th>\n",
       "      <td>43689</td>\n",
       "      <td>19204</td>\n",
       "      <td>ital_supr_l</td>\n",
       "      <td>1</td>\n",
       "      <td>2015-11-24</td>\n",
       "      <td>16:28:45</td>\n",
       "      <td>ital_supr</td>\n",
       "      <td>L</td>\n",
       "      <td>20.75</td>\n",
       "      <td>The Italian Supreme Pizza</td>\n",
       "      <td>Supreme</td>\n",
       "      <td>Calabrese Salami, Capocollo, Tomatoes, Red Oni...</td>\n",
       "      <td>20.75</td>\n",
       "      <td>2015-11-24 16:28:45</td>\n",
       "      <td>16</td>\n",
       "      <td>Tuesday</td>\n",
       "      <td>November</td>\n",
       "    </tr>\n",
       "    <tr>\n",
       "      <th>12754</th>\n",
       "      <td>12155</td>\n",
       "      <td>5337</td>\n",
       "      <td>prsc_argla_m</td>\n",
       "      <td>1</td>\n",
       "      <td>2015-03-31</td>\n",
       "      <td>15:34:31</td>\n",
       "      <td>prsc_argla</td>\n",
       "      <td>M</td>\n",
       "      <td>16.50</td>\n",
       "      <td>The Prosciutto and Arugula Pizza</td>\n",
       "      <td>Supreme</td>\n",
       "      <td>Prosciutto di San Daniele, Arugula, Mozzarella...</td>\n",
       "      <td>16.50</td>\n",
       "      <td>2015-03-31 15:34:31</td>\n",
       "      <td>15</td>\n",
       "      <td>Tuesday</td>\n",
       "      <td>March</td>\n",
       "    </tr>\n",
       "    <tr>\n",
       "      <th>45159</th>\n",
       "      <td>3592</td>\n",
       "      <td>1591</td>\n",
       "      <td>sicilian_s</td>\n",
       "      <td>1</td>\n",
       "      <td>2015-01-27</td>\n",
       "      <td>18:00:16</td>\n",
       "      <td>sicilian</td>\n",
       "      <td>S</td>\n",
       "      <td>12.25</td>\n",
       "      <td>The Sicilian Pizza</td>\n",
       "      <td>Supreme</td>\n",
       "      <td>Coarse Sicilian Salami, Tomatoes, Green Olives...</td>\n",
       "      <td>12.25</td>\n",
       "      <td>2015-01-27 18:00:16</td>\n",
       "      <td>18</td>\n",
       "      <td>Tuesday</td>\n",
       "      <td>January</td>\n",
       "    </tr>\n",
       "    <tr>\n",
       "      <th>29181</th>\n",
       "      <td>22150</td>\n",
       "      <td>9730</td>\n",
       "      <td>pepperoni_l</td>\n",
       "      <td>1</td>\n",
       "      <td>2015-06-12</td>\n",
       "      <td>17:59:29</td>\n",
       "      <td>pepperoni</td>\n",
       "      <td>L</td>\n",
       "      <td>15.25</td>\n",
       "      <td>The Pepperoni Pizza</td>\n",
       "      <td>Classic</td>\n",
       "      <td>Mozzarella Cheese, Pepperoni</td>\n",
       "      <td>15.25</td>\n",
       "      <td>2015-06-12 17:59:29</td>\n",
       "      <td>17</td>\n",
       "      <td>Friday</td>\n",
       "      <td>June</td>\n",
       "    </tr>\n",
       "    <tr>\n",
       "      <th>27588</th>\n",
       "      <td>6993</td>\n",
       "      <td>3084</td>\n",
       "      <td>cali_ckn_m</td>\n",
       "      <td>1</td>\n",
       "      <td>2015-02-21</td>\n",
       "      <td>12:44:07</td>\n",
       "      <td>cali_ckn</td>\n",
       "      <td>M</td>\n",
       "      <td>16.75</td>\n",
       "      <td>The California Chicken Pizza</td>\n",
       "      <td>Chicken</td>\n",
       "      <td>Chicken, Artichoke, Spinach, Garlic, Jalapeno ...</td>\n",
       "      <td>16.75</td>\n",
       "      <td>2015-02-21 12:44:07</td>\n",
       "      <td>12</td>\n",
       "      <td>Saturday</td>\n",
       "      <td>February</td>\n",
       "    </tr>\n",
       "    <tr>\n",
       "      <th>6558</th>\n",
       "      <td>28842</td>\n",
       "      <td>12719</td>\n",
       "      <td>ital_supr_l</td>\n",
       "      <td>1</td>\n",
       "      <td>2015-07-31</td>\n",
       "      <td>20:07:28</td>\n",
       "      <td>ital_supr</td>\n",
       "      <td>L</td>\n",
       "      <td>20.75</td>\n",
       "      <td>The Italian Supreme Pizza</td>\n",
       "      <td>Supreme</td>\n",
       "      <td>Calabrese Salami, Capocollo, Tomatoes, Red Oni...</td>\n",
       "      <td>20.75</td>\n",
       "      <td>2015-07-31 20:07:28</td>\n",
       "      <td>20</td>\n",
       "      <td>Friday</td>\n",
       "      <td>July</td>\n",
       "    </tr>\n",
       "    <tr>\n",
       "      <th>19353</th>\n",
       "      <td>31337</td>\n",
       "      <td>13837</td>\n",
       "      <td>ital_cpcllo_l</td>\n",
       "      <td>1</td>\n",
       "      <td>2015-08-19</td>\n",
       "      <td>11:30:41</td>\n",
       "      <td>ital_cpcllo</td>\n",
       "      <td>L</td>\n",
       "      <td>20.50</td>\n",
       "      <td>The Italian Capocollo Pizza</td>\n",
       "      <td>Classic</td>\n",
       "      <td>Capocollo, Red Peppers, Tomatoes, Goat Cheese,...</td>\n",
       "      <td>20.50</td>\n",
       "      <td>2015-08-19 11:30:41</td>\n",
       "      <td>11</td>\n",
       "      <td>Wednesday</td>\n",
       "      <td>August</td>\n",
       "    </tr>\n",
       "    <tr>\n",
       "      <th>38534</th>\n",
       "      <td>24659</td>\n",
       "      <td>10841</td>\n",
       "      <td>calabrese_m</td>\n",
       "      <td>2</td>\n",
       "      <td>2015-07-01</td>\n",
       "      <td>18:03:41</td>\n",
       "      <td>calabrese</td>\n",
       "      <td>M</td>\n",
       "      <td>16.25</td>\n",
       "      <td>The Calabrese Pizza</td>\n",
       "      <td>Supreme</td>\n",
       "      <td>Nduja Salami, Pancetta, Tomatoes, Red Onions,...</td>\n",
       "      <td>32.50</td>\n",
       "      <td>2015-07-01 18:03:41</td>\n",
       "      <td>18</td>\n",
       "      <td>Wednesday</td>\n",
       "      <td>July</td>\n",
       "    </tr>\n",
       "    <tr>\n",
       "      <th>10257</th>\n",
       "      <td>29433</td>\n",
       "      <td>13002</td>\n",
       "      <td>thai_ckn_l</td>\n",
       "      <td>1</td>\n",
       "      <td>2015-08-05</td>\n",
       "      <td>17:03:25</td>\n",
       "      <td>thai_ckn</td>\n",
       "      <td>L</td>\n",
       "      <td>20.75</td>\n",
       "      <td>The Thai Chicken Pizza</td>\n",
       "      <td>Chicken</td>\n",
       "      <td>Chicken, Pineapple, Tomatoes, Red Peppers, Tha...</td>\n",
       "      <td>20.75</td>\n",
       "      <td>2015-08-05 17:03:25</td>\n",
       "      <td>17</td>\n",
       "      <td>Wednesday</td>\n",
       "      <td>August</td>\n",
       "    </tr>\n",
       "    <tr>\n",
       "      <th>31262</th>\n",
       "      <td>4567</td>\n",
       "      <td>2022</td>\n",
       "      <td>ckn_pesto_l</td>\n",
       "      <td>1</td>\n",
       "      <td>2015-02-03</td>\n",
       "      <td>14:36:36</td>\n",
       "      <td>ckn_pesto</td>\n",
       "      <td>L</td>\n",
       "      <td>20.75</td>\n",
       "      <td>The Chicken Pesto Pizza</td>\n",
       "      <td>Chicken</td>\n",
       "      <td>Chicken, Tomatoes, Red Peppers, Spinach, Garli...</td>\n",
       "      <td>20.75</td>\n",
       "      <td>2015-02-03 14:36:36</td>\n",
       "      <td>14</td>\n",
       "      <td>Tuesday</td>\n",
       "      <td>February</td>\n",
       "    </tr>\n",
       "  </tbody>\n",
       "</table>\n",
       "</div>"
      ],
      "text/plain": [
       "       order_details_id  order_id       pizza_id  quantity        date  \\\n",
       "6797              43689     19204    ital_supr_l         1  2015-11-24   \n",
       "12754             12155      5337   prsc_argla_m         1  2015-03-31   \n",
       "45159              3592      1591     sicilian_s         1  2015-01-27   \n",
       "29181             22150      9730    pepperoni_l         1  2015-06-12   \n",
       "27588              6993      3084     cali_ckn_m         1  2015-02-21   \n",
       "6558              28842     12719    ital_supr_l         1  2015-07-31   \n",
       "19353             31337     13837  ital_cpcllo_l         1  2015-08-19   \n",
       "38534             24659     10841    calabrese_m         2  2015-07-01   \n",
       "10257             29433     13002     thai_ckn_l         1  2015-08-05   \n",
       "31262              4567      2022    ckn_pesto_l         1  2015-02-03   \n",
       "\n",
       "           time pizza_type_id size  price                              name  \\\n",
       "6797   16:28:45     ital_supr    L  20.75         The Italian Supreme Pizza   \n",
       "12754  15:34:31    prsc_argla    M  16.50  The Prosciutto and Arugula Pizza   \n",
       "45159  18:00:16      sicilian    S  12.25                The Sicilian Pizza   \n",
       "29181  17:59:29     pepperoni    L  15.25               The Pepperoni Pizza   \n",
       "27588  12:44:07      cali_ckn    M  16.75      The California Chicken Pizza   \n",
       "6558   20:07:28     ital_supr    L  20.75         The Italian Supreme Pizza   \n",
       "19353  11:30:41   ital_cpcllo    L  20.50       The Italian Capocollo Pizza   \n",
       "38534  18:03:41     calabrese    M  16.25               The Calabrese Pizza   \n",
       "10257  17:03:25      thai_ckn    L  20.75            The Thai Chicken Pizza   \n",
       "31262  14:36:36     ckn_pesto    L  20.75           The Chicken Pesto Pizza   \n",
       "\n",
       "      category                                        ingredients  \\\n",
       "6797   Supreme  Calabrese Salami, Capocollo, Tomatoes, Red Oni...   \n",
       "12754  Supreme  Prosciutto di San Daniele, Arugula, Mozzarella...   \n",
       "45159  Supreme  Coarse Sicilian Salami, Tomatoes, Green Olives...   \n",
       "29181  Classic                       Mozzarella Cheese, Pepperoni   \n",
       "27588  Chicken  Chicken, Artichoke, Spinach, Garlic, Jalapeno ...   \n",
       "6558   Supreme  Calabrese Salami, Capocollo, Tomatoes, Red Oni...   \n",
       "19353  Classic  Capocollo, Red Peppers, Tomatoes, Goat Cheese,...   \n",
       "38534  Supreme  Nduja Salami, Pancetta, Tomatoes, Red Onions,...   \n",
       "10257  Chicken  Chicken, Pineapple, Tomatoes, Red Peppers, Tha...   \n",
       "31262  Chicken  Chicken, Tomatoes, Red Peppers, Spinach, Garli...   \n",
       "\n",
       "       Total_revenue         date_&_time  hour        day     month  \n",
       "6797           20.75 2015-11-24 16:28:45    16    Tuesday  November  \n",
       "12754          16.50 2015-03-31 15:34:31    15    Tuesday     March  \n",
       "45159          12.25 2015-01-27 18:00:16    18    Tuesday   January  \n",
       "29181          15.25 2015-06-12 17:59:29    17     Friday      June  \n",
       "27588          16.75 2015-02-21 12:44:07    12   Saturday  February  \n",
       "6558           20.75 2015-07-31 20:07:28    20     Friday      July  \n",
       "19353          20.50 2015-08-19 11:30:41    11  Wednesday    August  \n",
       "38534          32.50 2015-07-01 18:03:41    18  Wednesday      July  \n",
       "10257          20.75 2015-08-05 17:03:25    17  Wednesday    August  \n",
       "31262          20.75 2015-02-03 14:36:36    14    Tuesday  February  "
      ]
     },
     "execution_count": 199,
     "metadata": {},
     "output_type": "execute_result"
    }
   ],
   "source": [
    "df[\"hour\"] = df[\"date_&_time\"].dt.hour\n",
    "df[\"day\"] = df[\"date_&_time\"].dt.day_name()\n",
    "df[\"month\"] = df[\"date_&_time\"].dt.month_name()\n",
    "df.sample(10)"
   ]
  },
  {
   "cell_type": "markdown",
   "id": "d4c3e2b3",
   "metadata": {},
   "source": [
    "#### **Basic: Q1.Retrieve the total number of orders placed.** ####"
   ]
  },
  {
   "cell_type": "code",
   "execution_count": 133,
   "id": "cf7de93a",
   "metadata": {},
   "outputs": [
    {
     "name": "stdout",
     "output_type": "stream",
     "text": [
      "Total Number of Orders: 21350\n"
     ]
    }
   ],
   "source": [
    "Total_orders = df_orders.shape[0]\n",
    "print(f\"Total Number of Orders: {Total_orders}\")"
   ]
  },
  {
   "cell_type": "markdown",
   "id": "354921d9",
   "metadata": {},
   "source": [
    "#### **Basic: Q2.Calculate the total revenue generated from pizza sales.** ####"
   ]
  },
  {
   "cell_type": "code",
   "execution_count": 134,
   "id": "21eef71f",
   "metadata": {},
   "outputs": [
    {
     "name": "stdout",
     "output_type": "stream",
     "text": [
      "Total Revenue generated from Pizza sales: 817860.05\n"
     ]
    }
   ],
   "source": [
    "df[\"Total_revenue\"] = df[\"quantity\"]*df[\"price\"]\n",
    "Total_Revenue = df[\"Total_revenue\"].sum()\n",
    "print(f\"Total Revenue generated from Pizza sales: {Total_Revenue}\")"
   ]
  },
  {
   "cell_type": "markdown",
   "id": "66e5abf3",
   "metadata": {},
   "source": [
    "#### **Basic: Q3.Identify the highest-priced pizza.** ####"
   ]
  },
  {
   "cell_type": "code",
   "execution_count": 135,
   "id": "715770e2",
   "metadata": {},
   "outputs": [
    {
     "data": {
      "text/html": [
       "<div>\n",
       "<style scoped>\n",
       "    .dataframe tbody tr th:only-of-type {\n",
       "        vertical-align: middle;\n",
       "    }\n",
       "\n",
       "    .dataframe tbody tr th {\n",
       "        vertical-align: top;\n",
       "    }\n",
       "\n",
       "    .dataframe thead th {\n",
       "        text-align: right;\n",
       "    }\n",
       "</style>\n",
       "<table border=\"1\" class=\"dataframe\">\n",
       "  <thead>\n",
       "    <tr style=\"text-align: right;\">\n",
       "      <th></th>\n",
       "      <th>pizza_id</th>\n",
       "      <th>pizza_type_id</th>\n",
       "      <th>size</th>\n",
       "      <th>price</th>\n",
       "      <th>name</th>\n",
       "      <th>category</th>\n",
       "      <th>ingredients</th>\n",
       "    </tr>\n",
       "  </thead>\n",
       "  <tbody>\n",
       "    <tr>\n",
       "      <th>43</th>\n",
       "      <td>the_greek_xxl</td>\n",
       "      <td>the_greek</td>\n",
       "      <td>XXL</td>\n",
       "      <td>35.95</td>\n",
       "      <td>The Greek Pizza</td>\n",
       "      <td>Classic</td>\n",
       "      <td>Kalamata Olives, Feta Cheese, Tomatoes, Garlic...</td>\n",
       "    </tr>\n",
       "  </tbody>\n",
       "</table>\n",
       "</div>"
      ],
      "text/plain": [
       "         pizza_id pizza_type_id size  price             name category  \\\n",
       "43  the_greek_xxl     the_greek  XXL  35.95  The Greek Pizza  Classic   \n",
       "\n",
       "                                          ingredients  \n",
       "43  Kalamata Olives, Feta Cheese, Tomatoes, Garlic...  "
      ]
     },
     "execution_count": 135,
     "metadata": {},
     "output_type": "execute_result"
    }
   ],
   "source": [
    "df_pizzas.merge(df_pizza_types, on = \"pizza_type_id\").sort_values(by = \"price\", ascending=False).head(1)\n"
   ]
  },
  {
   "cell_type": "markdown",
   "id": "bc6d14c7",
   "metadata": {},
   "source": [
    "#### **Basic:Q4.Identify the most common pizza size ordered.** ####"
   ]
  },
  {
   "cell_type": "code",
   "execution_count": 136,
   "id": "ac574adc",
   "metadata": {},
   "outputs": [
    {
     "name": "stdout",
     "output_type": "stream",
     "text": [
      "Most ordered Pizza Size is L with 18526 orders\n",
      "Least ordered Pizza Size is XXL with 28 orders\n"
     ]
    }
   ],
   "source": [
    "x = df[\"size\"].value_counts().head(1)\n",
    "y = df[\"size\"].value_counts().tail(1)\n",
    "print(f\"Most ordered Pizza Size is {x.index[0]} with {x.values[0]} orders\")\n",
    "print(f\"Least ordered Pizza Size is {y.index[0]} with {y.values[0]} orders\")"
   ]
  },
  {
   "cell_type": "markdown",
   "id": "9d29536d",
   "metadata": {},
   "source": [
    "#### **Basic: Q5. List the top 5 most ordered pizza types along with their quantities.** ####"
   ]
  },
  {
   "cell_type": "code",
   "execution_count": 137,
   "id": "7f1171a0",
   "metadata": {},
   "outputs": [
    {
     "data": {
      "text/plain": [
       "name\n",
       "The Classic Deluxe Pizza      2453\n",
       "The Barbecue Chicken Pizza    2432\n",
       "The Hawaiian Pizza            2422\n",
       "The Pepperoni Pizza           2418\n",
       "The Thai Chicken Pizza        2371\n",
       "Name: quantity, dtype: int64"
      ]
     },
     "execution_count": 137,
     "metadata": {},
     "output_type": "execute_result"
    }
   ],
   "source": [
    "df.groupby(by = \"name\")[\"quantity\"].sum().sort_values(ascending=False).head(5)"
   ]
  },
  {
   "cell_type": "markdown",
   "id": "cef3681c",
   "metadata": {},
   "source": [
    "#### **Intermediate: Q1.Join the necessary tables to find the total quantity of each pizza category ordered.** ####"
   ]
  },
  {
   "cell_type": "code",
   "execution_count": 138,
   "id": "fb7f26a3",
   "metadata": {},
   "outputs": [
    {
     "data": {
      "text/plain": [
       "category\n",
       "Classic    14888\n",
       "Supreme    11987\n",
       "Veggie     11649\n",
       "Chicken    11050\n",
       "Name: quantity, dtype: int64"
      ]
     },
     "execution_count": 138,
     "metadata": {},
     "output_type": "execute_result"
    }
   ],
   "source": [
    "df.groupby(by = 'category')[\"quantity\"].sum().sort_values(ascending=False)"
   ]
  },
  {
   "cell_type": "markdown",
   "id": "b47d7f71",
   "metadata": {},
   "source": [
    "#### **Intermediate: Q2.Determine the distribution of orders by hour of the day.** ####"
   ]
  },
  {
   "cell_type": "code",
   "execution_count": 171,
   "id": "fa414deb",
   "metadata": {},
   "outputs": [
    {
     "data": {
      "text/plain": [
       "Text(0.5, 1.0, 'Number of Orders by Hour of the Day')"
      ]
     },
     "execution_count": 171,
     "metadata": {},
     "output_type": "execute_result"
    },
    {
     "data": {
      "image/png": "[encoded data removed]",
      "text/plain": [
       "<Figure size 1200x600 with 1 Axes>"
      ]
     },
     "metadata": {},
     "output_type": "display_data"
    }
   ],
   "source": [
    "df[\"hour\"].value_counts().sort_index().plot(kind = \"bar\" , figsize=(12,6))\n",
    "plt.bar_label(plt.gca().containers[0])\n",
    "plt.xlabel(\"Hours of the Day\")\n",
    "plt.ylabel(\"Number of Orders\")\n",
    "plt.title(\"Number of Orders by Hour of the Day\")\n",
    "#plt.axhline(y= df[\"hour\"].value_counts().sort_index().mean(),color='red', linestyle='--')\n"
   ]
  },
  {
   "cell_type": "markdown",
   "id": "bc0369ca",
   "metadata": {},
   "source": [
    "#### **Intermediate: Q3. Join relevant tables to find the category-wise distribution of pizzas.** ####"
   ]
  },
  {
   "cell_type": "code",
   "execution_count": 179,
   "id": "405b59f3",
   "metadata": {},
   "outputs": [
    {
     "data": {
      "text/html": [
       "<div>\n",
       "<style scoped>\n",
       "    .dataframe tbody tr th:only-of-type {\n",
       "        vertical-align: middle;\n",
       "    }\n",
       "\n",
       "    .dataframe tbody tr th {\n",
       "        vertical-align: top;\n",
       "    }\n",
       "\n",
       "    .dataframe thead th {\n",
       "        text-align: right;\n",
       "    }\n",
       "</style>\n",
       "<table border=\"1\" class=\"dataframe\">\n",
       "  <thead>\n",
       "    <tr style=\"text-align: right;\">\n",
       "      <th></th>\n",
       "      <th>quantity</th>\n",
       "      <th>Total_revenue</th>\n",
       "    </tr>\n",
       "    <tr>\n",
       "      <th>category</th>\n",
       "      <th></th>\n",
       "      <th></th>\n",
       "    </tr>\n",
       "  </thead>\n",
       "  <tbody>\n",
       "    <tr>\n",
       "      <th>Chicken</th>\n",
       "      <td>11050</td>\n",
       "      <td>195919.50</td>\n",
       "    </tr>\n",
       "    <tr>\n",
       "      <th>Classic</th>\n",
       "      <td>14888</td>\n",
       "      <td>220053.10</td>\n",
       "    </tr>\n",
       "    <tr>\n",
       "      <th>Supreme</th>\n",
       "      <td>11987</td>\n",
       "      <td>208197.00</td>\n",
       "    </tr>\n",
       "    <tr>\n",
       "      <th>Veggie</th>\n",
       "      <td>11649</td>\n",
       "      <td>193690.45</td>\n",
       "    </tr>\n",
       "  </tbody>\n",
       "</table>\n",
       "</div>"
      ],
      "text/plain": [
       "          quantity  Total_revenue\n",
       "category                         \n",
       "Chicken      11050      195919.50\n",
       "Classic      14888      220053.10\n",
       "Supreme      11987      208197.00\n",
       "Veggie       11649      193690.45"
      ]
     },
     "execution_count": 179,
     "metadata": {},
     "output_type": "execute_result"
    }
   ],
   "source": [
    "df.groupby(by=[\"category\"])[[\"quantity\",\"Total_revenue\"]].sum()"
   ]
  },
  {
   "cell_type": "markdown",
   "id": "aa972094",
   "metadata": {},
   "source": [
    "#### **Intermediate: Q4.Group the orders by date and calculate the average number of pizzas ordered per day.** ####"
   ]
  },
  {
   "cell_type": "code",
   "execution_count": 192,
   "id": "38a43cf3",
   "metadata": {},
   "outputs": [
    {
     "data": {
      "text/plain": [
       "138.47486033519553"
      ]
     },
     "execution_count": 192,
     "metadata": {},
     "output_type": "execute_result"
    }
   ],
   "source": [
    "df.groupby(by=\"date\")[\"quantity\"].sum().mean()"
   ]
  },
  {
   "cell_type": "code",
   "execution_count": 196,
   "id": "9939d969",
   "metadata": {},
   "outputs": [
    {
     "data": {
      "text/plain": [
       "day\n",
       "Friday       8242\n",
       "Saturday     7493\n",
       "Thursday     7478\n",
       "Wednesday    6946\n",
       "Tuesday      6895\n",
       "Monday       6485\n",
       "Sunday       6035\n",
       "Name: quantity, dtype: int64"
      ]
     },
     "execution_count": 196,
     "metadata": {},
     "output_type": "execute_result"
    }
   ],
   "source": [
    "df.groupby(by=\"day\")[\"quantity\"].sum().sort_values(ascending=False)"
   ]
  },
  {
   "cell_type": "markdown",
   "id": "8f5d2e1f",
   "metadata": {},
   "source": [
    "#### **Intermediate: Q5.Determine the top 3 most ordered pizza types based on revenue.** ####"
   ]
  },
  {
   "cell_type": "code",
   "execution_count": 206,
   "id": "a9ad4a2e",
   "metadata": {},
   "outputs": [
    {
     "data": {
      "text/plain": [
       "name\n",
       "The Classic Deluxe Pizza      2453\n",
       "The Barbecue Chicken Pizza    2432\n",
       "The Hawaiian Pizza            2422\n",
       "Name: quantity, dtype: int64"
      ]
     },
     "execution_count": 206,
     "metadata": {},
     "output_type": "execute_result"
    }
   ],
   "source": [
    "df.groupby(by=[\"name\"])[\"quantity\"].sum().sort_values(ascending=False).head(3)"
   ]
  },
  {
   "cell_type": "markdown",
   "id": "3fb26230",
   "metadata": {},
   "source": [
    "#### **Advanced: Q1.Calculate the percentage contribution of each pizza type to total revenue.** ####"
   ]
  },
  {
   "cell_type": "code",
   "execution_count": 218,
   "id": "74dcad60",
   "metadata": {},
   "outputs": [
    {
     "data": {
      "text/plain": [
       "name\n",
       "The Thai Chicken Pizza                        5.31\n",
       "The Barbecue Chicken Pizza                    5.23\n",
       "The California Chicken Pizza                  5.06\n",
       "The Classic Deluxe Pizza                      4.67\n",
       "The Spicy Italian Pizza                       4.26\n",
       "The Southwest Chicken Pizza                   4.24\n",
       "The Italian Supreme Pizza                     4.09\n",
       "The Hawaiian Pizza                            3.95\n",
       "The Four Cheese Pizza                         3.95\n",
       "The Sicilian Pizza                            3.78\n",
       "The Pepperoni Pizza                           3.69\n",
       "The Greek Pizza                               3.48\n",
       "The Mexicana Pizza                            3.27\n",
       "The Five Cheese Pizza                         3.19\n",
       "The Pepper Salami Pizza                       3.12\n",
       "The Italian Capocollo Pizza                   3.07\n",
       "The Vegetables + Vegetables Pizza             2.98\n",
       "The Prosciutto and Arugula Pizza              2.96\n",
       "The Napolitana Pizza                          2.95\n",
       "The Spinach and Feta Pizza                    2.85\n",
       "The Big Meat Pizza                            2.81\n",
       "The Pepperoni, Mushroom, and Peppers Pizza    2.30\n",
       "The Chicken Alfredo Pizza                     2.07\n",
       "The Chicken Pesto Pizza                       2.04\n",
       "The Soppressata Pizza                         2.01\n",
       "The Italian Vegetables Pizza                  1.96\n",
       "The Calabrese Pizza                           1.95\n",
       "The Spinach Pesto Pizza                       1.91\n",
       "The Mediterranean Pizza                       1.88\n",
       "The Spinach Supreme Pizza                     1.87\n",
       "The Green Garden Pizza                        1.71\n",
       "The Brie Carre Pizza                          1.42\n",
       "Name: Total_revenue, dtype: float64"
      ]
     },
     "execution_count": 218,
     "metadata": {},
     "output_type": "execute_result"
    }
   ],
   "source": [
    "x=df[\"Total_revenue\"].sum()\n",
    "(df.groupby(by = \"name\")[\"Total_revenue\"].sum()/x*100).sort_values(ascending=False).round(2)"
   ]
  },
  {
   "cell_type": "markdown",
   "id": "08572365",
   "metadata": {},
   "source": [
    "#### **Advanced: Q2.Analyze the cumulative revenue generated over time.** ####"
   ]
  },
  {
   "cell_type": "code",
   "execution_count": 320,
   "id": "6f00499e",
   "metadata": {},
   "outputs": [
    {
     "data": {
      "text/plain": [
       "<Axes: title={'center': 'Cumulative Revenue over Time'}, xlabel='Date', ylabel='Cumulative Revenue'>"
      ]
     },
     "execution_count": 320,
     "metadata": {},
     "output_type": "execute_result"
    },
    {
     "data": {
      "image/png": "[encoded data removed]",
      "text/plain": [
       "<Figure size 1200x600 with 1 Axes>"
      ]
     },
     "metadata": {},
     "output_type": "display_data"
    }
   ],
   "source": [
    "x=df.groupby(by = \"date\")[\"Total_revenue\"].sum()\n",
    "x.cumsum().plot(figsize=(12,6),title=\"Cumulative Revenue over Time\" ,xlabel=\"Date\",ylabel=\"Cumulative Revenue\")"
   ]
  },
  {
   "cell_type": "markdown",
   "id": "fa4dcae4",
   "metadata": {},
   "source": [
    "#### **Advanced: Q3.Determine the top 3 most ordered pizza types based on revenue for each pizza category.** ####"
   ]
  },
  {
   "cell_type": "code",
   "execution_count": 262,
   "id": "a1952aad",
   "metadata": {},
   "outputs": [
    {
     "data": {
      "text/html": [
       "<div>\n",
       "<style scoped>\n",
       "    .dataframe tbody tr th:only-of-type {\n",
       "        vertical-align: middle;\n",
       "    }\n",
       "\n",
       "    .dataframe tbody tr th {\n",
       "        vertical-align: top;\n",
       "    }\n",
       "\n",
       "    .dataframe thead th {\n",
       "        text-align: right;\n",
       "    }\n",
       "</style>\n",
       "<table border=\"1\" class=\"dataframe\">\n",
       "  <thead>\n",
       "    <tr style=\"text-align: right;\">\n",
       "      <th></th>\n",
       "      <th>category</th>\n",
       "      <th>name</th>\n",
       "      <th>quantity</th>\n",
       "      <th>rank</th>\n",
       "    </tr>\n",
       "  </thead>\n",
       "  <tbody>\n",
       "    <tr>\n",
       "      <th>0</th>\n",
       "      <td>Chicken</td>\n",
       "      <td>The Barbecue Chicken Pizza</td>\n",
       "      <td>2432</td>\n",
       "      <td>1.0</td>\n",
       "    </tr>\n",
       "    <tr>\n",
       "      <th>1</th>\n",
       "      <td>Chicken</td>\n",
       "      <td>The Thai Chicken Pizza</td>\n",
       "      <td>2371</td>\n",
       "      <td>2.0</td>\n",
       "    </tr>\n",
       "    <tr>\n",
       "      <th>2</th>\n",
       "      <td>Chicken</td>\n",
       "      <td>The California Chicken Pizza</td>\n",
       "      <td>2370</td>\n",
       "      <td>3.0</td>\n",
       "    </tr>\n",
       "    <tr>\n",
       "      <th>3</th>\n",
       "      <td>Classic</td>\n",
       "      <td>The Classic Deluxe Pizza</td>\n",
       "      <td>2453</td>\n",
       "      <td>1.0</td>\n",
       "    </tr>\n",
       "    <tr>\n",
       "      <th>4</th>\n",
       "      <td>Classic</td>\n",
       "      <td>The Hawaiian Pizza</td>\n",
       "      <td>2422</td>\n",
       "      <td>2.0</td>\n",
       "    </tr>\n",
       "    <tr>\n",
       "      <th>5</th>\n",
       "      <td>Classic</td>\n",
       "      <td>The Pepperoni Pizza</td>\n",
       "      <td>2418</td>\n",
       "      <td>3.0</td>\n",
       "    </tr>\n",
       "    <tr>\n",
       "      <th>6</th>\n",
       "      <td>Supreme</td>\n",
       "      <td>The Sicilian Pizza</td>\n",
       "      <td>1938</td>\n",
       "      <td>1.0</td>\n",
       "    </tr>\n",
       "    <tr>\n",
       "      <th>7</th>\n",
       "      <td>Supreme</td>\n",
       "      <td>The Spicy Italian Pizza</td>\n",
       "      <td>1924</td>\n",
       "      <td>2.0</td>\n",
       "    </tr>\n",
       "    <tr>\n",
       "      <th>8</th>\n",
       "      <td>Supreme</td>\n",
       "      <td>The Italian Supreme Pizza</td>\n",
       "      <td>1884</td>\n",
       "      <td>3.0</td>\n",
       "    </tr>\n",
       "    <tr>\n",
       "      <th>9</th>\n",
       "      <td>Veggie</td>\n",
       "      <td>The Four Cheese Pizza</td>\n",
       "      <td>1902</td>\n",
       "      <td>1.0</td>\n",
       "    </tr>\n",
       "    <tr>\n",
       "      <th>10</th>\n",
       "      <td>Veggie</td>\n",
       "      <td>The Vegetables + Vegetables Pizza</td>\n",
       "      <td>1526</td>\n",
       "      <td>2.0</td>\n",
       "    </tr>\n",
       "    <tr>\n",
       "      <th>11</th>\n",
       "      <td>Veggie</td>\n",
       "      <td>The Mexicana Pizza</td>\n",
       "      <td>1484</td>\n",
       "      <td>3.0</td>\n",
       "    </tr>\n",
       "  </tbody>\n",
       "</table>\n",
       "</div>"
      ],
      "text/plain": [
       "   category                               name  quantity  rank\n",
       "0   Chicken         The Barbecue Chicken Pizza      2432   1.0\n",
       "1   Chicken             The Thai Chicken Pizza      2371   2.0\n",
       "2   Chicken       The California Chicken Pizza      2370   3.0\n",
       "3   Classic           The Classic Deluxe Pizza      2453   1.0\n",
       "4   Classic                 The Hawaiian Pizza      2422   2.0\n",
       "5   Classic                The Pepperoni Pizza      2418   3.0\n",
       "6   Supreme                 The Sicilian Pizza      1938   1.0\n",
       "7   Supreme            The Spicy Italian Pizza      1924   2.0\n",
       "8   Supreme          The Italian Supreme Pizza      1884   3.0\n",
       "9    Veggie              The Four Cheese Pizza      1902   1.0\n",
       "10   Veggie  The Vegetables + Vegetables Pizza      1526   2.0\n",
       "11   Veggie                 The Mexicana Pizza      1484   3.0"
      ]
     },
     "execution_count": 262,
     "metadata": {},
     "output_type": "execute_result"
    }
   ],
   "source": [
    "x=df.groupby(by=[\"category\",\"name\"])[\"quantity\"].sum().reset_index()\n",
    "x[\"rank\"]= x.groupby(\"category\")[\"quantity\"].rank(method=\"dense\", ascending=False)\n",
    "x[x[\"rank\"]<=3].sort_values(by=[\"category\",\"rank\"]).reset_index(drop=True)\n",
    "\n"
   ]
  },
  {
   "cell_type": "markdown",
   "id": "76e9fce6",
   "metadata": {},
   "source": [
    "#### **Data Visualization** ####"
   ]
  },
  {
   "cell_type": "code",
   "execution_count": 297,
   "id": "e5d99d20",
   "metadata": {},
   "outputs": [
    {
     "data": {
      "text/plain": [
       "Text(0, 0.5, 'Number of Orders')"
      ]
     },
     "execution_count": 297,
     "metadata": {},
     "output_type": "execute_result"
    },
    {
     "data": {
      "image/png": "[encoded data removed]",
      "text/plain": [
       "<Figure size 1400x800 with 1 Axes>"
      ]
     },
     "metadata": {},
     "output_type": "display_data"
    }
   ],
   "source": [
    "weekday_order = [\"Monday\", \"Tuesday\", \"Wednesday\", \"Thursday\", \"Friday\", \"Saturday\", \"Sunday\"]\n",
    "p=df.groupby(by = [\"day\",\"category\"])[\"quantity\"].sum().sort_values(ascending=False).unstack().reindex(weekday_order)\n",
    "\n",
    "p.plot(kind=\"bar\", figsize=(14,8), title=\"Pizza Orders by Day of the Week and Category\")\n",
    "plt.xlabel(\"Day of the Week\")\n",
    "plt.ylabel(\"Number of Orders\")"
   ]
  },
  {
   "cell_type": "code",
   "execution_count": 316,
   "id": "ece6cc61",
   "metadata": {},
   "outputs": [
    {
     "data": {
      "text/html": [
       "<div>\n",
       "<style scoped>\n",
       "    .dataframe tbody tr th:only-of-type {\n",
       "        vertical-align: middle;\n",
       "    }\n",
       "\n",
       "    .dataframe tbody tr th {\n",
       "        vertical-align: top;\n",
       "    }\n",
       "\n",
       "    .dataframe thead th {\n",
       "        text-align: right;\n",
       "    }\n",
       "</style>\n",
       "<table border=\"1\" class=\"dataframe\">\n",
       "  <thead>\n",
       "    <tr style=\"text-align: right;\">\n",
       "      <th></th>\n",
       "      <th>month</th>\n",
       "      <th>Total_revenue</th>\n",
       "    </tr>\n",
       "  </thead>\n",
       "  <tbody>\n",
       "    <tr>\n",
       "      <th>0</th>\n",
       "      <td>July</td>\n",
       "      <td>72557.90</td>\n",
       "    </tr>\n",
       "    <tr>\n",
       "      <th>1</th>\n",
       "      <td>May</td>\n",
       "      <td>71402.75</td>\n",
       "    </tr>\n",
       "    <tr>\n",
       "      <th>2</th>\n",
       "      <td>March</td>\n",
       "      <td>70397.10</td>\n",
       "    </tr>\n",
       "    <tr>\n",
       "      <th>3</th>\n",
       "      <td>November</td>\n",
       "      <td>70395.35</td>\n",
       "    </tr>\n",
       "    <tr>\n",
       "      <th>4</th>\n",
       "      <td>January</td>\n",
       "      <td>69793.30</td>\n",
       "    </tr>\n",
       "  </tbody>\n",
       "</table>\n",
       "</div>"
      ],
      "text/plain": [
       "      month  Total_revenue\n",
       "0      July       72557.90\n",
       "1       May       71402.75\n",
       "2     March       70397.10\n",
       "3  November       70395.35\n",
       "4   January       69793.30"
      ]
     },
     "execution_count": 316,
     "metadata": {},
     "output_type": "execute_result"
    }
   ],
   "source": [
    "df.groupby(by = \"month\")[\"Total_revenue\"].sum().nlargest(5).reset_index()"
   ]
  },
  {
   "cell_type": "code",
   "execution_count": 317,
   "id": "f284ca55",
   "metadata": {},
   "outputs": [
    {
     "data": {
      "text/html": [
       "<div>\n",
       "<style scoped>\n",
       "    .dataframe tbody tr th:only-of-type {\n",
       "        vertical-align: middle;\n",
       "    }\n",
       "\n",
       "    .dataframe tbody tr th {\n",
       "        vertical-align: top;\n",
       "    }\n",
       "\n",
       "    .dataframe thead th {\n",
       "        text-align: right;\n",
       "    }\n",
       "</style>\n",
       "<table border=\"1\" class=\"dataframe\">\n",
       "  <thead>\n",
       "    <tr style=\"text-align: right;\">\n",
       "      <th></th>\n",
       "      <th>month</th>\n",
       "      <th>Total_revenue</th>\n",
       "    </tr>\n",
       "  </thead>\n",
       "  <tbody>\n",
       "    <tr>\n",
       "      <th>0</th>\n",
       "      <td>October</td>\n",
       "      <td>64027.60</td>\n",
       "    </tr>\n",
       "    <tr>\n",
       "      <th>1</th>\n",
       "      <td>September</td>\n",
       "      <td>64180.05</td>\n",
       "    </tr>\n",
       "    <tr>\n",
       "      <th>2</th>\n",
       "      <td>December</td>\n",
       "      <td>64701.15</td>\n",
       "    </tr>\n",
       "    <tr>\n",
       "      <th>3</th>\n",
       "      <td>February</td>\n",
       "      <td>65159.60</td>\n",
       "    </tr>\n",
       "    <tr>\n",
       "      <th>4</th>\n",
       "      <td>June</td>\n",
       "      <td>68230.20</td>\n",
       "    </tr>\n",
       "  </tbody>\n",
       "</table>\n",
       "</div>"
      ],
      "text/plain": [
       "       month  Total_revenue\n",
       "0    October       64027.60\n",
       "1  September       64180.05\n",
       "2   December       64701.15\n",
       "3   February       65159.60\n",
       "4       June       68230.20"
      ]
     },
     "execution_count": 317,
     "metadata": {},
     "output_type": "execute_result"
    }
   ],
   "source": [
    "df.groupby(by = \"month\")[\"Total_revenue\"].sum().nsmallest(5).reset_index()"
   ]
  },
  {
   "cell_type": "code",
   "execution_count": 329,
   "id": "43198db0",
   "metadata": {},
   "outputs": [
    {
     "data": {
      "text/html": [
       "<div>\n",
       "<style scoped>\n",
       "    .dataframe tbody tr th:only-of-type {\n",
       "        vertical-align: middle;\n",
       "    }\n",
       "\n",
       "    .dataframe tbody tr th {\n",
       "        vertical-align: top;\n",
       "    }\n",
       "\n",
       "    .dataframe thead th {\n",
       "        text-align: right;\n",
       "    }\n",
       "</style>\n",
       "<table border=\"1\" class=\"dataframe\">\n",
       "  <thead>\n",
       "    <tr style=\"text-align: right;\">\n",
       "      <th></th>\n",
       "      <th></th>\n",
       "      <th>quantity</th>\n",
       "      <th>Total_revenue</th>\n",
       "    </tr>\n",
       "    <tr>\n",
       "      <th>category</th>\n",
       "      <th>size</th>\n",
       "      <th></th>\n",
       "      <th></th>\n",
       "    </tr>\n",
       "  </thead>\n",
       "  <tbody>\n",
       "    <tr>\n",
       "      <th rowspan=\"3\" valign=\"top\">Chicken</th>\n",
       "      <th>L</th>\n",
       "      <td>4932</td>\n",
       "      <td>102339.00</td>\n",
       "    </tr>\n",
       "    <tr>\n",
       "      <th>M</th>\n",
       "      <td>3894</td>\n",
       "      <td>65224.50</td>\n",
       "    </tr>\n",
       "    <tr>\n",
       "      <th>S</th>\n",
       "      <td>2224</td>\n",
       "      <td>28356.00</td>\n",
       "    </tr>\n",
       "    <tr>\n",
       "      <th rowspan=\"5\" valign=\"top\">Classic</th>\n",
       "      <th>L</th>\n",
       "      <td>4057</td>\n",
       "      <td>74518.50</td>\n",
       "    </tr>\n",
       "    <tr>\n",
       "      <th>M</th>\n",
       "      <td>4112</td>\n",
       "      <td>60581.75</td>\n",
       "    </tr>\n",
       "    <tr>\n",
       "      <th>S</th>\n",
       "      <td>6139</td>\n",
       "      <td>69870.25</td>\n",
       "    </tr>\n",
       "    <tr>\n",
       "      <th>XL</th>\n",
       "      <td>552</td>\n",
       "      <td>14076.00</td>\n",
       "    </tr>\n",
       "    <tr>\n",
       "      <th>XXL</th>\n",
       "      <td>28</td>\n",
       "      <td>1006.60</td>\n",
       "    </tr>\n",
       "    <tr>\n",
       "      <th rowspan=\"3\" valign=\"top\">Supreme</th>\n",
       "      <th>L</th>\n",
       "      <td>4564</td>\n",
       "      <td>94258.50</td>\n",
       "    </tr>\n",
       "    <tr>\n",
       "      <th>M</th>\n",
       "      <td>4046</td>\n",
       "      <td>66475.00</td>\n",
       "    </tr>\n",
       "    <tr>\n",
       "      <th>S</th>\n",
       "      <td>3377</td>\n",
       "      <td>47463.50</td>\n",
       "    </tr>\n",
       "    <tr>\n",
       "      <th rowspan=\"3\" valign=\"top\">Veggie</th>\n",
       "      <th>L</th>\n",
       "      <td>5403</td>\n",
       "      <td>104202.70</td>\n",
       "    </tr>\n",
       "    <tr>\n",
       "      <th>M</th>\n",
       "      <td>3583</td>\n",
       "      <td>57101.00</td>\n",
       "    </tr>\n",
       "    <tr>\n",
       "      <th>S</th>\n",
       "      <td>2663</td>\n",
       "      <td>32386.75</td>\n",
       "    </tr>\n",
       "  </tbody>\n",
       "</table>\n",
       "</div>"
      ],
      "text/plain": [
       "               quantity  Total_revenue\n",
       "category size                         \n",
       "Chicken  L         4932      102339.00\n",
       "         M         3894       65224.50\n",
       "         S         2224       28356.00\n",
       "Classic  L         4057       74518.50\n",
       "         M         4112       60581.75\n",
       "         S         6139       69870.25\n",
       "         XL         552       14076.00\n",
       "         XXL         28        1006.60\n",
       "Supreme  L         4564       94258.50\n",
       "         M         4046       66475.00\n",
       "         S         3377       47463.50\n",
       "Veggie   L         5403      104202.70\n",
       "         M         3583       57101.00\n",
       "         S         2663       32386.75"
      ]
     },
     "execution_count": 329,
     "metadata": {},
     "output_type": "execute_result"
    }
   ],
   "source": [
    "df.groupby(by = [\"category\",\"size\"])[[\"quantity\",\"Total_revenue\"]].sum()\n",
    "#df.pivot_table(index=[\"category\",\"size\"], values=[\"Total_revenue\",\"quantity\"], aggfunc=[\"sum\"])"
   ]
  },
  {
   "cell_type": "code",
   "execution_count": 342,
   "id": "a925cc10",
   "metadata": {},
   "outputs": [
    {
     "data": {
      "text/plain": [
       "<module 'matplotlib.pyplot' from 'c:\\\\Users\\\\HP\\\\anaconda3\\\\lib\\\\site-packages\\\\matplotlib\\\\pyplot.py'>"
      ]
     },
     "execution_count": 342,
     "metadata": {},
     "output_type": "execute_result"
    },
    {
     "data": {
      "image/png": "[encoded data removed]",
      "text/plain": [
       "<Figure size 700x700 with 1 Axes>"
      ]
     },
     "metadata": {},
     "output_type": "display_data"
    }
   ],
   "source": [
    "x=df[df[\"day\"]== \"Friday\"]\n",
    "x.groupby(by = \"category\")[\"quantity\"].sum().sort_values(ascending=False).plot(kind=\"pie\", autopct=\"%1.1f%%\",explode=(0.1,0,0,0), figsize=(7,7), title=\"Pizza Category Distribution by Quantity on Friday\")\n",
    "plt.ylabel(\"\")\n",
    "plt"
   ]
  },
  {
   "cell_type": "code",
   "execution_count": 364,
   "id": "5b1bb70d",
   "metadata": {},
   "outputs": [
    {
     "data": {
      "image/png": "[encoded data removed]",
      "text/plain": [
       "<Figure size 1200x600 with 1 Axes>"
      ]
     },
     "metadata": {},
     "output_type": "display_data"
    }
   ],
   "source": [
    "df.groupby(by = \"hour\")[\"Total_revenue\"].sum().nlargest(5).plot(kind=\"bar\", figsize=(12,6), title=\"Top 5 Hours by Total Revenue\", color =\"orange\")\n",
    "plt.bar_label(plt.gca().containers[0]) \n",
    "plt.xlabel(\"Top 5 Hours \")\n",
    "plt.ylabel(\"Total Revenue\")\n",
    "plt.xticks(rotation=0)\n",
    "plt.show()"
   ]
  },
  {
   "cell_type": "code",
   "execution_count": 374,
   "id": "4bdd0f68",
   "metadata": {},
   "outputs": [
    {
     "data": {
      "text/plain": [
       "24289.65"
      ]
     },
     "execution_count": 374,
     "metadata": {},
     "output_type": "execute_result"
    }
   ],
   "source": [
    "Month_order = [\"January\", \"February\", \"March\", \"April\", \"May\", \"June\", \"July\", \"August\", \"September\", \"October\", \"November\", \"December\"]\n",
    "x = df[df[\"date\"].isin([\"2015-01-31\",\"2015-02-28\",\"2015-03-31\",\"2015-04-30\",\"2015-05-31\",\"2015-06-30\",\"2015-07-31\",\"2015-08-31\"\"2015-09-30\",\"2015-10-31\",\"2015-11-30\",\"2015-12-31\"])]\n",
    "x.groupby(by=\"month\")[\"Total_revenue\"].sum().reindex(Month_order)\n",
    "x[\"Total_revenue\"].sum()"
   ]
  },
  {
   "cell_type": "code",
   "execution_count": 373,
   "id": "a558683f",
   "metadata": {},
   "outputs": [
    {
     "data": {
      "text/html": [
       "<div>\n",
       "<style scoped>\n",
       "    .dataframe tbody tr th:only-of-type {\n",
       "        vertical-align: middle;\n",
       "    }\n",
       "\n",
       "    .dataframe tbody tr th {\n",
       "        vertical-align: top;\n",
       "    }\n",
       "\n",
       "    .dataframe thead th {\n",
       "        text-align: right;\n",
       "    }\n",
       "</style>\n",
       "<table border=\"1\" class=\"dataframe\">\n",
       "  <thead>\n",
       "    <tr style=\"text-align: right;\">\n",
       "      <th></th>\n",
       "      <th>order_details_id</th>\n",
       "      <th>order_id</th>\n",
       "      <th>pizza_id</th>\n",
       "      <th>quantity</th>\n",
       "      <th>date</th>\n",
       "      <th>time</th>\n",
       "      <th>pizza_type_id</th>\n",
       "      <th>size</th>\n",
       "      <th>price</th>\n",
       "      <th>name</th>\n",
       "      <th>category</th>\n",
       "      <th>ingredients</th>\n",
       "      <th>Total_revenue</th>\n",
       "      <th>date_&amp;_time</th>\n",
       "      <th>hour</th>\n",
       "      <th>day</th>\n",
       "      <th>month</th>\n",
       "    </tr>\n",
       "  </thead>\n",
       "  <tbody>\n",
       "    <tr>\n",
       "      <th>0</th>\n",
       "      <td>1</td>\n",
       "      <td>1</td>\n",
       "      <td>hawaiian_m</td>\n",
       "      <td>1</td>\n",
       "      <td>2015-01-01</td>\n",
       "      <td>11:38:36</td>\n",
       "      <td>hawaiian</td>\n",
       "      <td>M</td>\n",
       "      <td>13.25</td>\n",
       "      <td>The Hawaiian Pizza</td>\n",
       "      <td>Classic</td>\n",
       "      <td>Sliced Ham, Pineapple, Mozzarella Cheese</td>\n",
       "      <td>13.25</td>\n",
       "      <td>2015-01-01 11:38:36</td>\n",
       "      <td>11</td>\n",
       "      <td>Thursday</td>\n",
       "      <td>January</td>\n",
       "    </tr>\n",
       "    <tr>\n",
       "      <th>1</th>\n",
       "      <td>179</td>\n",
       "      <td>77</td>\n",
       "      <td>hawaiian_m</td>\n",
       "      <td>1</td>\n",
       "      <td>2015-01-02</td>\n",
       "      <td>12:22:46</td>\n",
       "      <td>hawaiian</td>\n",
       "      <td>M</td>\n",
       "      <td>13.25</td>\n",
       "      <td>The Hawaiian Pizza</td>\n",
       "      <td>Classic</td>\n",
       "      <td>Sliced Ham, Pineapple, Mozzarella Cheese</td>\n",
       "      <td>13.25</td>\n",
       "      <td>2015-01-02 12:22:46</td>\n",
       "      <td>12</td>\n",
       "      <td>Friday</td>\n",
       "      <td>January</td>\n",
       "    </tr>\n",
       "    <tr>\n",
       "      <th>2</th>\n",
       "      <td>357</td>\n",
       "      <td>146</td>\n",
       "      <td>hawaiian_m</td>\n",
       "      <td>1</td>\n",
       "      <td>2015-01-03</td>\n",
       "      <td>14:22:10</td>\n",
       "      <td>hawaiian</td>\n",
       "      <td>M</td>\n",
       "      <td>13.25</td>\n",
       "      <td>The Hawaiian Pizza</td>\n",
       "      <td>Classic</td>\n",
       "      <td>Sliced Ham, Pineapple, Mozzarella Cheese</td>\n",
       "      <td>13.25</td>\n",
       "      <td>2015-01-03 14:22:10</td>\n",
       "      <td>14</td>\n",
       "      <td>Saturday</td>\n",
       "      <td>January</td>\n",
       "    </tr>\n",
       "    <tr>\n",
       "      <th>3</th>\n",
       "      <td>389</td>\n",
       "      <td>163</td>\n",
       "      <td>hawaiian_m</td>\n",
       "      <td>1</td>\n",
       "      <td>2015-01-03</td>\n",
       "      <td>16:54:54</td>\n",
       "      <td>hawaiian</td>\n",
       "      <td>M</td>\n",
       "      <td>13.25</td>\n",
       "      <td>The Hawaiian Pizza</td>\n",
       "      <td>Classic</td>\n",
       "      <td>Sliced Ham, Pineapple, Mozzarella Cheese</td>\n",
       "      <td>13.25</td>\n",
       "      <td>2015-01-03 16:54:54</td>\n",
       "      <td>16</td>\n",
       "      <td>Saturday</td>\n",
       "      <td>January</td>\n",
       "    </tr>\n",
       "    <tr>\n",
       "      <th>4</th>\n",
       "      <td>568</td>\n",
       "      <td>247</td>\n",
       "      <td>hawaiian_m</td>\n",
       "      <td>1</td>\n",
       "      <td>2015-01-04</td>\n",
       "      <td>20:55:29</td>\n",
       "      <td>hawaiian</td>\n",
       "      <td>M</td>\n",
       "      <td>13.25</td>\n",
       "      <td>The Hawaiian Pizza</td>\n",
       "      <td>Classic</td>\n",
       "      <td>Sliced Ham, Pineapple, Mozzarella Cheese</td>\n",
       "      <td>13.25</td>\n",
       "      <td>2015-01-04 20:55:29</td>\n",
       "      <td>20</td>\n",
       "      <td>Sunday</td>\n",
       "      <td>January</td>\n",
       "    </tr>\n",
       "    <tr>\n",
       "      <th>...</th>\n",
       "      <td>...</td>\n",
       "      <td>...</td>\n",
       "      <td>...</td>\n",
       "      <td>...</td>\n",
       "      <td>...</td>\n",
       "      <td>...</td>\n",
       "      <td>...</td>\n",
       "      <td>...</td>\n",
       "      <td>...</td>\n",
       "      <td>...</td>\n",
       "      <td>...</td>\n",
       "      <td>...</td>\n",
       "      <td>...</td>\n",
       "      <td>...</td>\n",
       "      <td>...</td>\n",
       "      <td>...</td>\n",
       "      <td>...</td>\n",
       "    </tr>\n",
       "    <tr>\n",
       "      <th>48615</th>\n",
       "      <td>48176</td>\n",
       "      <td>21167</td>\n",
       "      <td>brie_carre_s</td>\n",
       "      <td>1</td>\n",
       "      <td>2015-12-27</td>\n",
       "      <td>17:39:57</td>\n",
       "      <td>brie_carre</td>\n",
       "      <td>S</td>\n",
       "      <td>23.65</td>\n",
       "      <td>The Brie Carre Pizza</td>\n",
       "      <td>Supreme</td>\n",
       "      <td>Brie Carre Cheese, Prosciutto, Caramelized Oni...</td>\n",
       "      <td>23.65</td>\n",
       "      <td>2015-12-27 17:39:57</td>\n",
       "      <td>17</td>\n",
       "      <td>Sunday</td>\n",
       "      <td>December</td>\n",
       "    </tr>\n",
       "    <tr>\n",
       "      <th>48616</th>\n",
       "      <td>48244</td>\n",
       "      <td>21198</td>\n",
       "      <td>brie_carre_s</td>\n",
       "      <td>1</td>\n",
       "      <td>2015-12-28</td>\n",
       "      <td>15:39:02</td>\n",
       "      <td>brie_carre</td>\n",
       "      <td>S</td>\n",
       "      <td>23.65</td>\n",
       "      <td>The Brie Carre Pizza</td>\n",
       "      <td>Supreme</td>\n",
       "      <td>Brie Carre Cheese, Prosciutto, Caramelized Oni...</td>\n",
       "      <td>23.65</td>\n",
       "      <td>2015-12-28 15:39:02</td>\n",
       "      <td>15</td>\n",
       "      <td>Monday</td>\n",
       "      <td>December</td>\n",
       "    </tr>\n",
       "    <tr>\n",
       "      <th>48617</th>\n",
       "      <td>48311</td>\n",
       "      <td>21225</td>\n",
       "      <td>brie_carre_s</td>\n",
       "      <td>1</td>\n",
       "      <td>2015-12-29</td>\n",
       "      <td>13:20:17</td>\n",
       "      <td>brie_carre</td>\n",
       "      <td>S</td>\n",
       "      <td>23.65</td>\n",
       "      <td>The Brie Carre Pizza</td>\n",
       "      <td>Supreme</td>\n",
       "      <td>Brie Carre Cheese, Prosciutto, Caramelized Oni...</td>\n",
       "      <td>23.65</td>\n",
       "      <td>2015-12-29 13:20:17</td>\n",
       "      <td>13</td>\n",
       "      <td>Tuesday</td>\n",
       "      <td>December</td>\n",
       "    </tr>\n",
       "    <tr>\n",
       "      <th>48618</th>\n",
       "      <td>48456</td>\n",
       "      <td>21282</td>\n",
       "      <td>brie_carre_s</td>\n",
       "      <td>1</td>\n",
       "      <td>2015-12-31</td>\n",
       "      <td>12:09:59</td>\n",
       "      <td>brie_carre</td>\n",
       "      <td>S</td>\n",
       "      <td>23.65</td>\n",
       "      <td>The Brie Carre Pizza</td>\n",
       "      <td>Supreme</td>\n",
       "      <td>Brie Carre Cheese, Prosciutto, Caramelized Oni...</td>\n",
       "      <td>23.65</td>\n",
       "      <td>2015-12-31 12:09:59</td>\n",
       "      <td>12</td>\n",
       "      <td>Thursday</td>\n",
       "      <td>December</td>\n",
       "    </tr>\n",
       "    <tr>\n",
       "      <th>48619</th>\n",
       "      <td>48527</td>\n",
       "      <td>21308</td>\n",
       "      <td>brie_carre_s</td>\n",
       "      <td>1</td>\n",
       "      <td>2015-12-31</td>\n",
       "      <td>16:44:35</td>\n",
       "      <td>brie_carre</td>\n",
       "      <td>S</td>\n",
       "      <td>23.65</td>\n",
       "      <td>The Brie Carre Pizza</td>\n",
       "      <td>Supreme</td>\n",
       "      <td>Brie Carre Cheese, Prosciutto, Caramelized Oni...</td>\n",
       "      <td>23.65</td>\n",
       "      <td>2015-12-31 16:44:35</td>\n",
       "      <td>16</td>\n",
       "      <td>Thursday</td>\n",
       "      <td>December</td>\n",
       "    </tr>\n",
       "  </tbody>\n",
       "</table>\n",
       "<p>48620 rows × 17 columns</p>\n",
       "</div>"
      ],
      "text/plain": [
       "       order_details_id  order_id      pizza_id  quantity        date  \\\n",
       "0                     1         1    hawaiian_m         1  2015-01-01   \n",
       "1                   179        77    hawaiian_m         1  2015-01-02   \n",
       "2                   357       146    hawaiian_m         1  2015-01-03   \n",
       "3                   389       163    hawaiian_m         1  2015-01-03   \n",
       "4                   568       247    hawaiian_m         1  2015-01-04   \n",
       "...                 ...       ...           ...       ...         ...   \n",
       "48615             48176     21167  brie_carre_s         1  2015-12-27   \n",
       "48616             48244     21198  brie_carre_s         1  2015-12-28   \n",
       "48617             48311     21225  brie_carre_s         1  2015-12-29   \n",
       "48618             48456     21282  brie_carre_s         1  2015-12-31   \n",
       "48619             48527     21308  brie_carre_s         1  2015-12-31   \n",
       "\n",
       "           time pizza_type_id size  price                  name category  \\\n",
       "0      11:38:36      hawaiian    M  13.25    The Hawaiian Pizza  Classic   \n",
       "1      12:22:46      hawaiian    M  13.25    The Hawaiian Pizza  Classic   \n",
       "2      14:22:10      hawaiian    M  13.25    The Hawaiian Pizza  Classic   \n",
       "3      16:54:54      hawaiian    M  13.25    The Hawaiian Pizza  Classic   \n",
       "4      20:55:29      hawaiian    M  13.25    The Hawaiian Pizza  Classic   \n",
       "...         ...           ...  ...    ...                   ...      ...   \n",
       "48615  17:39:57    brie_carre    S  23.65  The Brie Carre Pizza  Supreme   \n",
       "48616  15:39:02    brie_carre    S  23.65  The Brie Carre Pizza  Supreme   \n",
       "48617  13:20:17    brie_carre    S  23.65  The Brie Carre Pizza  Supreme   \n",
       "48618  12:09:59    brie_carre    S  23.65  The Brie Carre Pizza  Supreme   \n",
       "48619  16:44:35    brie_carre    S  23.65  The Brie Carre Pizza  Supreme   \n",
       "\n",
       "                                             ingredients  Total_revenue  \\\n",
       "0               Sliced Ham, Pineapple, Mozzarella Cheese          13.25   \n",
       "1               Sliced Ham, Pineapple, Mozzarella Cheese          13.25   \n",
       "2               Sliced Ham, Pineapple, Mozzarella Cheese          13.25   \n",
       "3               Sliced Ham, Pineapple, Mozzarella Cheese          13.25   \n",
       "4               Sliced Ham, Pineapple, Mozzarella Cheese          13.25   \n",
       "...                                                  ...            ...   \n",
       "48615  Brie Carre Cheese, Prosciutto, Caramelized Oni...          23.65   \n",
       "48616  Brie Carre Cheese, Prosciutto, Caramelized Oni...          23.65   \n",
       "48617  Brie Carre Cheese, Prosciutto, Caramelized Oni...          23.65   \n",
       "48618  Brie Carre Cheese, Prosciutto, Caramelized Oni...          23.65   \n",
       "48619  Brie Carre Cheese, Prosciutto, Caramelized Oni...          23.65   \n",
       "\n",
       "              date_&_time  hour       day     month  \n",
       "0     2015-01-01 11:38:36    11  Thursday   January  \n",
       "1     2015-01-02 12:22:46    12    Friday   January  \n",
       "2     2015-01-03 14:22:10    14  Saturday   January  \n",
       "3     2015-01-03 16:54:54    16  Saturday   January  \n",
       "4     2015-01-04 20:55:29    20    Sunday   January  \n",
       "...                   ...   ...       ...       ...  \n",
       "48615 2015-12-27 17:39:57    17    Sunday  December  \n",
       "48616 2015-12-28 15:39:02    15    Monday  December  \n",
       "48617 2015-12-29 13:20:17    13   Tuesday  December  \n",
       "48618 2015-12-31 12:09:59    12  Thursday  December  \n",
       "48619 2015-12-31 16:44:35    16  Thursday  December  \n",
       "\n",
       "[48620 rows x 17 columns]"
      ]
     },
     "execution_count": 373,
     "metadata": {},
     "output_type": "execute_result"
    }
   ],
   "source": [
    "df"
   ]
  },
  {
   "cell_type": "code",
   "execution_count": null,
   "id": "8844bc73",
   "metadata": {},
   "outputs": [],
   "source": []
  }
 ],
 "metadata": {
  "kernelspec": {
   "display_name": "base",
   "language": "python",
   "name": "python3"
  },
  "language_info": {
   "codemirror_mode": {
    "name": "ipython",
    "version": 3
   },
   "file_extension": ".py",
   "mimetype": "text/x-python",
   "name": "python",
   "nbconvert_exporter": "python",
   "pygments_lexer": "ipython3",
   "version": "3.10.9"
  }
 },
 "nbformat": 4,
 "nbformat_minor": 5
}
